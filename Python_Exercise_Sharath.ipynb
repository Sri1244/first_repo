{
 "cells": [
  {
   "cell_type": "markdown",
   "metadata": {},
   "source": [
    "#                                       Python - Exercises"
   ]
  },
  {
   "cell_type": "markdown",
   "metadata": {},
   "source": [
    " --> Python Features"
   ]
  },
  {
   "cell_type": "markdown",
   "metadata": {},
   "source": [
    "    Python is free and open source which is easy to code which supports object oriented programming. It is a high level language which is extensible. It is Platform independent,can also be used GUI programming. Python has large set of pre-efined libraries.It is an integrated language."
   ]
  },
  {
   "cell_type": "markdown",
   "metadata": {},
   "source": [
    "--> Mutable Data Structures in Python"
   ]
  },
  {
   "cell_type": "markdown",
   "metadata": {},
   "source": [
    "    List, Dictionary and Set are mutable data structures in Python"
   ]
  },
  {
   "cell_type": "markdown",
   "metadata": {},
   "source": [
    "--> Immutable Data Structues in Python"
   ]
  },
  {
   "cell_type": "markdown",
   "metadata": {},
   "source": [
    "    Number, String, Tuple are Immutable data structures in Python"
   ]
  },
  {
   "cell_type": "code",
   "execution_count": 82,
   "metadata": {},
   "outputs": [],
   "source": [
    "import logging\n",
    "import timeit\n",
    "import sys\n",
    "import re"
   ]
  },
  {
   "cell_type": "code",
   "execution_count": 68,
   "metadata": {},
   "outputs": [],
   "source": [
    "LOG_FORMAT=\"%(levelname)s %(asctime)s - %(message)s\"\n",
    "logging.basicConfig(filename=\"exercise.log\",level=logging.DEBUG,format=LOG_FORMAT,filemode='w')\n",
    "logger=logging.getLogger()\n"
   ]
  },
  {
   "cell_type": "code",
   "execution_count": 190,
   "metadata": {},
   "outputs": [],
   "source": [
    "def check_tech():\n",
    "    ''' \n",
    "    This is a function which takes input from user for \n",
    "    variable tech and based on user input.\n",
    "    If tech is Pythin , function returns True\n",
    "    other case, it will return False.\n",
    "    '''\n",
    "    try:\n",
    "        tech=input('Enter Technology : ')\n",
    "        if tech == '':\n",
    "            raise ValueError('value is not provided for tech')\n",
    "        if tech == 'Python':\n",
    "            return True\n",
    "        else:\n",
    "            return False\n",
    "    except Exception as e:\n",
    "        print(\"Exception found:\",e)"
   ]
  },
  {
   "cell_type": "code",
   "execution_count": 191,
   "metadata": {},
   "outputs": [
    {
     "name": "stdout",
     "output_type": "stream",
     "text": [
      "Enter Technology : \n",
      "Exception found: value is not provided for tech\n"
     ]
    }
   ],
   "source": [
    "#calling check_tech function\n",
    "logger.info('Calling the check_tech function')\n",
    "res=check_tech()\n",
    "logger.info('result after calling check_tech function {0}'.format(res))"
   ]
  },
  {
   "cell_type": "code",
   "execution_count": 45,
   "metadata": {},
   "outputs": [
    {
     "name": "stdout",
     "output_type": "stream",
     "text": [
      "Enter Technology : Java\n"
     ]
    },
    {
     "data": {
      "text/plain": [
       "False"
      ]
     },
     "execution_count": 45,
     "metadata": {},
     "output_type": "execute_result"
    }
   ],
   "source": [
    "check_tech()"
   ]
  },
  {
   "cell_type": "code",
   "execution_count": 192,
   "metadata": {},
   "outputs": [
    {
     "name": "stdout",
     "output_type": "stream",
     "text": [
      "Enter Technology : Python\n"
     ]
    },
    {
     "data": {
      "text/plain": [
       "True"
      ]
     },
     "execution_count": 192,
     "metadata": {},
     "output_type": "execute_result"
    }
   ],
   "source": [
    "check_tech()"
   ]
  },
  {
   "cell_type": "code",
   "execution_count": 37,
   "metadata": {},
   "outputs": [],
   "source": [
    "def reverse_string(str1):\n",
    "    '''\n",
    "    This is a function to reverse a input string and return it \n",
    "    '''\n",
    "    str2=\" \"\n",
    "    for i in str1:\n",
    "        str2 = i+str2\n",
    "    return str2"
   ]
  },
  {
   "cell_type": "code",
   "execution_count": 38,
   "metadata": {},
   "outputs": [
    {
     "data": {
      "text/plain": [
       "'htarahS '"
      ]
     },
     "execution_count": 38,
     "metadata": {},
     "output_type": "execute_result"
    }
   ],
   "source": [
    "#calling the reverse_string function with a parameter\n",
    "reverse_string('Sharath')"
   ]
  },
  {
   "cell_type": "code",
   "execution_count": 39,
   "metadata": {},
   "outputs": [
    {
     "data": {
      "text/plain": [
       "'gnirtS esreveR si sihT '"
      ]
     },
     "execution_count": 39,
     "metadata": {},
     "output_type": "execute_result"
    }
   ],
   "source": [
    "reverse_string('This is Reverse String')"
   ]
  },
  {
   "cell_type": "code",
   "execution_count": 61,
   "metadata": {},
   "outputs": [],
   "source": [
    "dict1 = {'Saturday':20200711,'Friday':20200710,'Thursday':20200709,'Wednesday':20200708}"
   ]
  },
  {
   "cell_type": "code",
   "execution_count": 62,
   "metadata": {},
   "outputs": [],
   "source": [
    "dict2 = {'Thursday':20200709,'Friday':20200710,'Saturday':20200711,'Sunday':20200712,'Monday':20200713}"
   ]
  },
  {
   "cell_type": "code",
   "execution_count": 63,
   "metadata": {},
   "outputs": [
    {
     "data": {
      "text/plain": [
       "{'Wednesday'}"
      ]
     },
     "execution_count": 63,
     "metadata": {},
     "output_type": "execute_result"
    }
   ],
   "source": [
    "#finding out the unique keys in dict1 when compared to dict2\n",
    "set(dict1).difference(dict2)"
   ]
  },
  {
   "cell_type": "code",
   "execution_count": 64,
   "metadata": {},
   "outputs": [
    {
     "data": {
      "text/plain": [
       "{'Monday', 'Sunday'}"
      ]
     },
     "execution_count": 64,
     "metadata": {},
     "output_type": "execute_result"
    }
   ],
   "source": [
    "#finding out the unique keys in dict2 when compared to dict1\n",
    "set(dict2).difference(dict1)"
   ]
  },
  {
   "cell_type": "code",
   "execution_count": 65,
   "metadata": {},
   "outputs": [
    {
     "data": {
      "text/plain": [
       "{'Friday', 'Saturday', 'Thursday'}"
      ]
     },
     "execution_count": 65,
     "metadata": {},
     "output_type": "execute_result"
    }
   ],
   "source": [
    "#finding out the common keys in dict1 and dict2\n",
    "set(dict1).intersection(dict2)"
   ]
  },
  {
   "cell_type": "code",
   "execution_count": 98,
   "metadata": {},
   "outputs": [],
   "source": [
    "#creating a list l1 and tuple t1 with a range of 1 to 100\n",
    "l1=list(range(1,101))\n",
    "t1=tuple(range(1,101))"
   ]
  },
  {
   "cell_type": "code",
   "execution_count": 111,
   "metadata": {},
   "outputs": [
    {
     "name": "stdout",
     "output_type": "stream",
     "text": [
      "Size of the list is :  1008\n",
      "Size of the tuple is :  848\n"
     ]
    }
   ],
   "source": [
    "#using sys module caluculating the memory size of the list and tuple\n",
    "logger.info('Calculating the size for creating a list')\n",
    "list_l1_size =sys.getsizeof(l1)\n",
    "logger.info('List memory size is {0}'.format(list_l1_size))\n",
    "\n",
    "logger.info('Calculating the size for creating a tuple')\n",
    "tuple_t1_size =sys.getsizeof(t1)\n",
    "logger.info('Tuple memory size is {0}'.format(tuple_t1_size))\n",
    "\n",
    "print(\"Size of the list is : \",list_l1_size)\n",
    "print(\"Size of the tuple is : \" ,tuple_t1_size)"
   ]
  },
  {
   "cell_type": "code",
   "execution_count": 108,
   "metadata": {},
   "outputs": [
    {
     "name": "stdout",
     "output_type": "stream",
     "text": [
      "List takes more Memory than tuple\n"
     ]
    }
   ],
   "source": [
    "if list_l1_size > tuple_t1_size:\n",
    "    print('List takes more Memory than tuple')\n",
    "else:\n",
    "    print('Tuple takes less Memory than tuple')   "
   ]
  },
  {
   "cell_type": "code",
   "execution_count": 112,
   "metadata": {},
   "outputs": [
    {
     "name": "stdout",
     "output_type": "stream",
     "text": [
      " Time taken to process List is :  542.252262999682\n",
      " Time taken to process Tuple is :  43.45661799925438\n"
     ]
    }
   ],
   "source": [
    "logger.info('Calculating the time taken to processing a list')\n",
    "time_for_list = timeit.timeit(stmt='[1,2,3,4,5,5,6,654433,22,3,232,23]', number=1000000)*1000\n",
    "logger.info('List processing time is {0}'.format(time_for_list))\n",
    "\n",
    "logger.info('Calculating the time taken to processing a tuple')\n",
    "time_for_tuple = timeit.timeit(stmt='(1,2,3,4,5,5,6,654433,22,3,232,23)', number=1000000)*1000\n",
    "logger.info('Tuple processing time is {0}'.format(time_for_tuple))\n",
    "\n",
    "\n",
    "print(\" Time taken to process List is : \",time_for_list )\n",
    "print(\" Time taken to process Tuple is : \",time_for_tuple )"
   ]
  },
  {
   "cell_type": "code",
   "execution_count": 110,
   "metadata": {},
   "outputs": [
    {
     "name": "stdout",
     "output_type": "stream",
     "text": [
      "List takes more time to process than tuple\n"
     ]
    }
   ],
   "source": [
    "if time_for_list > time_for_tuple:\n",
    "    print('List takes more time to process than tuple')\n",
    "else:\n",
    "    print('Tuple takes less time to process than tuple')   "
   ]
  },
  {
   "cell_type": "markdown",
   "metadata": {},
   "source": [
    "    Based on the above results, we can conclude that Tuple takes less time to process and less memory to storage."
   ]
  },
  {
   "cell_type": "code",
   "execution_count": 147,
   "metadata": {},
   "outputs": [],
   "source": [
    "def employee():\n",
    "    '''\n",
    "    This function is to take input from employee with his information and write it to the log file\n",
    "    '''\n",
    "    emp_name = input('Enter Employee Name: ')\n",
    "    tech_list_input = input('Enter Technologies: ')\n",
    "    tech_list= tech_list_input.split(',')\n",
    "    \n",
    "    n=input('Enter number of personal details you wish to provide: ')\n",
    "    personal_dict = {}\n",
    "    for i in range(int(n)):\n",
    "        k=input(\"Enter key :\")\n",
    "        v=input(\"Enter values :\")\n",
    "        personal_dict.update({k:v})\n",
    "    logger.info('Employee Details are: name - {0}, Technologies - {1}, personal_details - {2}'.format(emp_name,tech_list,personal_dict))"
   ]
  },
  {
   "cell_type": "code",
   "execution_count": 146,
   "metadata": {},
   "outputs": [
    {
     "name": "stdout",
     "output_type": "stream",
     "text": [
      "Enter Employee Name: Sharath\n",
      "Enter Technologies: Python, SQL\n",
      "Enter number of personal details you wish to provide : 2\n",
      "Enter key :Loc\n",
      "Enter values :Toronto\n",
      "Enter key :Exp\n",
      "Enter values :10\n"
     ]
    }
   ],
   "source": [
    "employee()"
   ]
  },
  {
   "cell_type": "code",
   "execution_count": 163,
   "metadata": {},
   "outputs": [
    {
     "name": "stdout",
     "output_type": "stream",
     "text": [
      "Austin\n",
      "\n",
      "[]\n",
      "Amsterdam\n",
      "['Austin\\n']\n"
     ]
    }
   ],
   "source": [
    "#created a file cities.txt , reading through it to find city name that starts with A and \n",
    "#writing that city name to another file\n",
    "f=open('cities.txt')\n",
    "for citi in f.readlines():\n",
    "    if citi.startswith(\"A\"):\n",
    "        print(citi)\n",
    "        with open('filter_cities.txt','a+') as w:\n",
    "            w.seek(0)\n",
    "            print(w.readlines())\n",
    "            w.writelines([citi])\n",
    "            logger.info('city that starts with A - {0}'.format(citi))            \n",
    "f.close()"
   ]
  }
 ],
 "metadata": {
  "kernelspec": {
   "display_name": "Python 3",
   "language": "python",
   "name": "python3"
  },
  "language_info": {
   "codemirror_mode": {
    "name": "ipython",
    "version": 3
   },
   "file_extension": ".py",
   "mimetype": "text/x-python",
   "name": "python",
   "nbconvert_exporter": "python",
   "pygments_lexer": "ipython3",
   "version": "3.7.1"
  }
 },
 "nbformat": 4,
 "nbformat_minor": 2
}
